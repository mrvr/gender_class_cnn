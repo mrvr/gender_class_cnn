{
 "cells": [
  {
   "cell_type": "code",
   "execution_count": 1,
   "metadata": {},
   "outputs": [
    {
     "name": "stderr",
     "output_type": "stream",
     "text": [
      "Using TensorFlow backend.\n"
     ]
    }
   ],
   "source": [
    "%matplotlib inline\n",
    "\n",
    "import pandas as pd\n",
    "import numpy as np\n",
    "from glob import glob\n",
    "import matplotlib.pyplot as plt\n",
    "\n",
    "from keras.models import Sequential\n",
    "from keras.preprocessing import image\n",
    "from keras.layers import Dense, InputLayer, Conv2D, MaxPool2D, Flatten\n",
    "    \n",
    "from sklearn.model_selection import train_test_split"
   ]
  },
  {
   "cell_type": "code",
   "execution_count": 2,
   "metadata": {},
   "outputs": [],
   "source": [
    "# randomness consistancy\n",
    "seed = 101\n",
    "rng = np.random.RandomState(seed)"
   ]
  },
  {
   "cell_type": "code",
   "execution_count": 3,
   "metadata": {},
   "outputs": [],
   "source": [
    "data = pd.read_csv(\"train.csv\")"
   ]
  },
  {
   "cell_type": "code",
   "execution_count": 4,
   "metadata": {},
   "outputs": [
    {
     "data": {
      "text/html": [
       "<div>\n",
       "<style scoped>\n",
       "    .dataframe tbody tr th:only-of-type {\n",
       "        vertical-align: middle;\n",
       "    }\n",
       "\n",
       "    .dataframe tbody tr th {\n",
       "        vertical-align: top;\n",
       "    }\n",
       "\n",
       "    .dataframe thead th {\n",
       "        text-align: right;\n",
       "    }\n",
       "</style>\n",
       "<table border=\"1\" class=\"dataframe\">\n",
       "  <thead>\n",
       "    <tr style=\"text-align: right;\">\n",
       "      <th></th>\n",
       "      <th>image_names</th>\n",
       "      <th>class</th>\n",
       "    </tr>\n",
       "  </thead>\n",
       "  <tbody>\n",
       "    <tr>\n",
       "      <th>0</th>\n",
       "      <td>11413.jpg</td>\n",
       "      <td>1</td>\n",
       "    </tr>\n",
       "    <tr>\n",
       "      <th>1</th>\n",
       "      <td>9863.jpg</td>\n",
       "      <td>1</td>\n",
       "    </tr>\n",
       "    <tr>\n",
       "      <th>2</th>\n",
       "      <td>997.jpg</td>\n",
       "      <td>0</td>\n",
       "    </tr>\n",
       "    <tr>\n",
       "      <th>3</th>\n",
       "      <td>5950.jpg</td>\n",
       "      <td>0</td>\n",
       "    </tr>\n",
       "    <tr>\n",
       "      <th>4</th>\n",
       "      <td>10454.jpg</td>\n",
       "      <td>1</td>\n",
       "    </tr>\n",
       "  </tbody>\n",
       "</table>\n",
       "</div>"
      ],
      "text/plain": [
       "  image_names  class\n",
       "0   11413.jpg      1\n",
       "1    9863.jpg      1\n",
       "2     997.jpg      0\n",
       "3    5950.jpg      0\n",
       "4   10454.jpg      1"
      ]
     },
     "execution_count": 4,
     "metadata": {},
     "output_type": "execute_result"
    }
   ],
   "source": [
    "data.head()"
   ]
  },
  {
   "cell_type": "code",
   "execution_count": 5,
   "metadata": {},
   "outputs": [
    {
     "data": {
      "text/plain": [
       "1    6174\n",
       "0    6022\n",
       "Name: class, dtype: int64"
      ]
     },
     "execution_count": 5,
     "metadata": {},
     "output_type": "execute_result"
    }
   ],
   "source": [
    "data['class'].value_counts()"
   ]
  },
  {
   "cell_type": "code",
   "execution_count": 6,
   "metadata": {},
   "outputs": [],
   "source": [
    "#Accuracy can be a good mesure\n",
    "from keras.preprocessing.image import load_img, img_to_array, array_to_img"
   ]
  },
  {
   "cell_type": "code",
   "execution_count": 7,
   "metadata": {},
   "outputs": [],
   "source": [
    "# load images\n",
    "X = list()\n",
    "for i in data.image_names:\n",
    "    img = load_img(\"images/\"+i)\n",
    "    img = img_to_array(img)\n",
    "    X.append( img)"
   ]
  },
  {
   "cell_type": "code",
   "execution_count": 8,
   "metadata": {},
   "outputs": [
    {
     "data": {
      "text/plain": [
       "(12196, 224, 224, 3)"
      ]
     },
     "execution_count": 8,
     "metadata": {},
     "output_type": "execute_result"
    }
   ],
   "source": [
    "#Create an array of Images\n",
    "X= np.array(X)\n",
    "X.shape"
   ]
  },
  {
   "cell_type": "markdown",
   "metadata": {},
   "source": [
    "#### Preprocess image\n",
    "##### scale the pixel value to 0.0 to 1.0 range"
   ]
  },
  {
   "cell_type": "code",
   "execution_count": 9,
   "metadata": {},
   "outputs": [],
   "source": [
    "X=X/X.max()"
   ]
  },
  {
   "cell_type": "markdown",
   "metadata": {},
   "source": [
    "#### train test samples"
   ]
  },
  {
   "cell_type": "code",
   "execution_count": 10,
   "metadata": {},
   "outputs": [],
   "source": [
    "from sklearn.model_selection import train_test_split"
   ]
  },
  {
   "cell_type": "code",
   "execution_count": 11,
   "metadata": {},
   "outputs": [],
   "source": [
    "x_train,x_valid,y_train,y_valid = train_test_split(X,data['class'],test_size=0.3,random_state=seed)"
   ]
  },
  {
   "cell_type": "markdown",
   "metadata": {},
   "source": [
    "### Image augmentations"
   ]
  },
  {
   "cell_type": "code",
   "execution_count": 12,
   "metadata": {},
   "outputs": [],
   "source": [
    "from keras.preprocessing.image import ImageDataGenerator"
   ]
  },
  {
   "cell_type": "code",
   "execution_count": 13,
   "metadata": {},
   "outputs": [],
   "source": [
    "image_augments = ImageDataGenerator(\n",
    "                    width_shift_range = 0.2,\n",
    "                    horizontal_flip = True,\n",
    "                    height_shift_range=0.2,\n",
    "                    vertical_flip=True                    \n",
    "                 )"
   ]
  },
  {
   "cell_type": "markdown",
   "metadata": {},
   "source": [
    "#### Model the network"
   ]
  },
  {
   "cell_type": "code",
   "execution_count": 14,
   "metadata": {},
   "outputs": [],
   "source": [
    "from keras.layers import InputLayer, Dense, Convolution2D, MaxPooling2D"
   ]
  },
  {
   "cell_type": "code",
   "execution_count": 15,
   "metadata": {},
   "outputs": [],
   "source": [
    "from keras.layers import BatchNormalization, GlobalAveragePooling2D, Dropout"
   ]
  },
  {
   "cell_type": "code",
   "execution_count": 16,
   "metadata": {},
   "outputs": [],
   "source": [
    "model = Sequential()\n",
    "model.add(InputLayer(input_shape=(224,224,3)))\n",
    "model.add(Conv2D(filters = 64, kernel_size = (1,1), activation='relu', padding='same'))\n",
    "model.add(Conv2D(filters = 64, kernel_size = (5,5), activation='relu', padding='same'))\n",
    "model.add(MaxPooling2D(pool_size=2))\n",
    "model.add(BatchNormalization())\n",
    "    \n",
    "model.add(Conv2D(filters = 64, kernel_size = (5,5), activation='relu', padding='same'))\n",
    "model.add(Conv2D(filters = 64, kernel_size = (5,5), activation='relu', padding='same'))\n",
    "model.add(MaxPooling2D(pool_size=2))\n",
    "model.add(BatchNormalization())\n",
    "model.add(Dropout(0.3))\n",
    "\n",
    "model.add(Conv2D(filters = 128, kernel_size = (3,3), activation='relu', padding='same'))\n",
    "model.add(Conv2D(filters = 128, kernel_size = (3,3), activation='relu', padding='same'))\n",
    "model.add(MaxPooling2D(pool_size=2))\n",
    "model.add(BatchNormalization())\n",
    "\n",
    "model.add(Conv2D(filters = 256, kernel_size = (3,3), activation='relu', padding='same'))\n",
    "model.add(MaxPooling2D(pool_size=2))\n",
    "model.add(BatchNormalization())\n",
    "model.add(Dropout(0.3))\n",
    "\n",
    "model.add(Conv2D(filters = 256, kernel_size = (3,3), activation='relu', padding='same'))\n",
    "model.add(Conv2D(filters = 256, kernel_size = (3,3), activation='relu', padding='same'))\n",
    "model.add(MaxPooling2D(pool_size=2))\n",
    "model.add(BatchNormalization())\n",
    "\n",
    "model.add(Conv2D(filters = 512, kernel_size = (3,3), activation='relu', padding='same'))\n",
    "model.add(MaxPooling2D(pool_size=2))\n",
    "model.add(BatchNormalization())\n",
    "model.add(Dropout(0.3))\n",
    "\n",
    "model.add(Conv2D(filters = 1024, kernel_size = (3,3), activation='relu', padding='same'))\n",
    "model.add(MaxPooling2D(pool_size=2))\n",
    "model.add(BatchNormalization())\n",
    "model.add(Dropout(0.3))\n",
    "model.add(GlobalAveragePooling2D())\n",
    "\n",
    "model.add(Dense(units = 2048, activation ='sigmoid'))\n",
    "model.add(BatchNormalization())\n",
    "model.add(Dropout(0.3))\n",
    "\n",
    "model.add(Dense(units=1, activation = 'sigmoid'))\n",
    "\n",
    "\n",
    "model.compile(loss='binary_crossentropy', optimizer=\"adam\", metrics=['accuracy'])"
   ]
  },
  {
   "cell_type": "code",
   "execution_count": 17,
   "metadata": {},
   "outputs": [
    {
     "name": "stdout",
     "output_type": "stream",
     "text": [
      "_________________________________________________________________\n",
      "Layer (type)                 Output Shape              Param #   \n",
      "=================================================================\n",
      "conv2d_1 (Conv2D)            (None, 224, 224, 64)      256       \n",
      "_________________________________________________________________\n",
      "conv2d_2 (Conv2D)            (None, 224, 224, 64)      102464    \n",
      "_________________________________________________________________\n",
      "max_pooling2d_1 (MaxPooling2 (None, 112, 112, 64)      0         \n",
      "_________________________________________________________________\n",
      "batch_normalization_1 (Batch (None, 112, 112, 64)      256       \n",
      "_________________________________________________________________\n",
      "conv2d_3 (Conv2D)            (None, 112, 112, 64)      102464    \n",
      "_________________________________________________________________\n",
      "conv2d_4 (Conv2D)            (None, 112, 112, 64)      102464    \n",
      "_________________________________________________________________\n",
      "max_pooling2d_2 (MaxPooling2 (None, 56, 56, 64)        0         \n",
      "_________________________________________________________________\n",
      "batch_normalization_2 (Batch (None, 56, 56, 64)        256       \n",
      "_________________________________________________________________\n",
      "dropout_1 (Dropout)          (None, 56, 56, 64)        0         \n",
      "_________________________________________________________________\n",
      "conv2d_5 (Conv2D)            (None, 56, 56, 128)       73856     \n",
      "_________________________________________________________________\n",
      "conv2d_6 (Conv2D)            (None, 56, 56, 128)       147584    \n",
      "_________________________________________________________________\n",
      "max_pooling2d_3 (MaxPooling2 (None, 28, 28, 128)       0         \n",
      "_________________________________________________________________\n",
      "batch_normalization_3 (Batch (None, 28, 28, 128)       512       \n",
      "_________________________________________________________________\n",
      "conv2d_7 (Conv2D)            (None, 28, 28, 256)       295168    \n",
      "_________________________________________________________________\n",
      "max_pooling2d_4 (MaxPooling2 (None, 14, 14, 256)       0         \n",
      "_________________________________________________________________\n",
      "batch_normalization_4 (Batch (None, 14, 14, 256)       1024      \n",
      "_________________________________________________________________\n",
      "dropout_2 (Dropout)          (None, 14, 14, 256)       0         \n",
      "_________________________________________________________________\n",
      "conv2d_8 (Conv2D)            (None, 14, 14, 256)       590080    \n",
      "_________________________________________________________________\n",
      "conv2d_9 (Conv2D)            (None, 14, 14, 256)       590080    \n",
      "_________________________________________________________________\n",
      "max_pooling2d_5 (MaxPooling2 (None, 7, 7, 256)         0         \n",
      "_________________________________________________________________\n",
      "batch_normalization_5 (Batch (None, 7, 7, 256)         1024      \n",
      "_________________________________________________________________\n",
      "conv2d_10 (Conv2D)           (None, 7, 7, 512)         1180160   \n",
      "_________________________________________________________________\n",
      "max_pooling2d_6 (MaxPooling2 (None, 3, 3, 512)         0         \n",
      "_________________________________________________________________\n",
      "batch_normalization_6 (Batch (None, 3, 3, 512)         2048      \n",
      "_________________________________________________________________\n",
      "dropout_3 (Dropout)          (None, 3, 3, 512)         0         \n",
      "_________________________________________________________________\n",
      "conv2d_11 (Conv2D)           (None, 3, 3, 1024)        4719616   \n",
      "_________________________________________________________________\n",
      "max_pooling2d_7 (MaxPooling2 (None, 1, 1, 1024)        0         \n",
      "_________________________________________________________________\n",
      "batch_normalization_7 (Batch (None, 1, 1, 1024)        4096      \n",
      "_________________________________________________________________\n",
      "dropout_4 (Dropout)          (None, 1, 1, 1024)        0         \n",
      "_________________________________________________________________\n",
      "global_average_pooling2d_1 ( (None, 1024)              0         \n",
      "_________________________________________________________________\n",
      "dense_1 (Dense)              (None, 2048)              2099200   \n",
      "_________________________________________________________________\n",
      "batch_normalization_8 (Batch (None, 2048)              8192      \n",
      "_________________________________________________________________\n",
      "dropout_5 (Dropout)          (None, 2048)              0         \n",
      "_________________________________________________________________\n",
      "dense_2 (Dense)              (None, 1)                 2049      \n",
      "=================================================================\n",
      "Total params: 10,022,849\n",
      "Trainable params: 10,014,145\n",
      "Non-trainable params: 8,704\n",
      "_________________________________________________________________\n"
     ]
    }
   ],
   "source": [
    "model.summary()"
   ]
  },
  {
   "cell_type": "code",
   "execution_count": 18,
   "metadata": {},
   "outputs": [],
   "source": [
    "from keras.callbacks import ModelCheckpoint, EarlyStopping"
   ]
  },
  {
   "cell_type": "code",
   "execution_count": 21,
   "metadata": {},
   "outputs": [],
   "source": [
    "final_weights_path = 'trial_cnn_model.h5'\n",
    "\n",
    "callbacks_list = [\n",
    "    ModelCheckpoint(final_weights_path, monitor='val_loss', verbose=1, save_best_only=True),\n",
    "    EarlyStopping(monitor='val_loss', patience=30, verbose=1)\n",
    "]"
   ]
  },
  {
   "cell_type": "code",
   "execution_count": 22,
   "metadata": {},
   "outputs": [
    {
     "name": "stdout",
     "output_type": "stream",
     "text": [
      "Epoch 1/200\n",
      "267/267 [==============================] - 97s 363ms/step - loss: 0.2810 - acc: 0.8694 - val_loss: 0.3280 - val_acc: 0.8612\n",
      "\n",
      "Epoch 00001: val_loss improved from inf to 0.32804, saving model to trial_cnn_model.h5\n",
      "Epoch 2/200\n",
      "267/267 [==============================] - 94s 352ms/step - loss: 0.2119 - acc: 0.9099 - val_loss: 0.3181 - val_acc: 0.8560\n",
      "\n",
      "Epoch 00002: val_loss improved from 0.32804 to 0.31814, saving model to trial_cnn_model.h5\n",
      "Epoch 3/200\n",
      "267/267 [==============================] - 94s 354ms/step - loss: 0.2889 - acc: 0.8765 - val_loss: 0.2353 - val_acc: 0.8989\n",
      "\n",
      "Epoch 00003: val_loss improved from 0.31814 to 0.23529, saving model to trial_cnn_model.h5\n",
      "Epoch 4/200\n",
      "267/267 [==============================] - 94s 353ms/step - loss: 0.2647 - acc: 0.8856 - val_loss: 0.2187 - val_acc: 0.9057\n",
      "\n",
      "Epoch 00004: val_loss improved from 0.23529 to 0.21868, saving model to trial_cnn_model.h5\n",
      "Epoch 5/200\n",
      "267/267 [==============================] - 94s 353ms/step - loss: 0.2595 - acc: 0.8892 - val_loss: 0.2465 - val_acc: 0.8920\n",
      "\n",
      "Epoch 00005: val_loss did not improve from 0.21868\n",
      "Epoch 6/200\n",
      "267/267 [==============================] - 95s 354ms/step - loss: 0.2376 - acc: 0.8994 - val_loss: 0.2230 - val_acc: 0.9101\n",
      "\n",
      "Epoch 00006: val_loss did not improve from 0.21868\n",
      "Epoch 7/200\n",
      "267/267 [==============================] - 95s 354ms/step - loss: 0.2326 - acc: 0.9027 - val_loss: 0.3171 - val_acc: 0.8521\n",
      "\n",
      "Epoch 00007: val_loss did not improve from 0.21868\n",
      "Epoch 8/200\n",
      "267/267 [==============================] - 94s 354ms/step - loss: 0.2237 - acc: 0.9043 - val_loss: 0.1972 - val_acc: 0.9164\n",
      "\n",
      "Epoch 00008: val_loss improved from 0.21868 to 0.19722, saving model to trial_cnn_model.h5\n",
      "Epoch 9/200\n",
      "267/267 [==============================] - 94s 353ms/step - loss: 0.2217 - acc: 0.9060 - val_loss: 0.2720 - val_acc: 0.8879\n",
      "\n",
      "Epoch 00009: val_loss did not improve from 0.19722\n",
      "Epoch 10/200\n",
      "267/267 [==============================] - 95s 354ms/step - loss: 0.2155 - acc: 0.9107 - val_loss: 0.2047 - val_acc: 0.9128\n",
      "\n",
      "Epoch 00010: val_loss did not improve from 0.19722\n",
      "Epoch 11/200\n",
      "267/267 [==============================] - 95s 354ms/step - loss: 0.2132 - acc: 0.9116 - val_loss: 0.1968 - val_acc: 0.9166\n",
      "\n",
      "Epoch 00011: val_loss improved from 0.19722 to 0.19685, saving model to trial_cnn_model.h5\n",
      "Epoch 12/200\n",
      "267/267 [==============================] - 94s 354ms/step - loss: 0.2078 - acc: 0.9139 - val_loss: 0.1855 - val_acc: 0.9235\n",
      "\n",
      "Epoch 00012: val_loss improved from 0.19685 to 0.18554, saving model to trial_cnn_model.h5\n",
      "Epoch 13/200\n",
      "267/267 [==============================] - 94s 352ms/step - loss: 0.1903 - acc: 0.9181 - val_loss: 0.2155 - val_acc: 0.9109\n",
      "\n",
      "Epoch 00013: val_loss did not improve from 0.18554\n",
      "Epoch 14/200\n",
      "267/267 [==============================] - 94s 353ms/step - loss: 0.2005 - acc: 0.9175 - val_loss: 0.1604 - val_acc: 0.9328\n",
      "\n",
      "Epoch 00014: val_loss improved from 0.18554 to 0.16039, saving model to trial_cnn_model.h5\n",
      "Epoch 15/200\n",
      "267/267 [==============================] - 94s 353ms/step - loss: 0.1878 - acc: 0.9211 - val_loss: 0.1634 - val_acc: 0.9319\n",
      "\n",
      "Epoch 00015: val_loss did not improve from 0.16039\n",
      "Epoch 16/200\n",
      "267/267 [==============================] - 94s 353ms/step - loss: 0.1851 - acc: 0.9225 - val_loss: 0.2055 - val_acc: 0.9101\n",
      "\n",
      "Epoch 00016: val_loss did not improve from 0.16039\n",
      "Epoch 17/200\n",
      "267/267 [==============================] - 94s 354ms/step - loss: 0.1882 - acc: 0.9219 - val_loss: 0.1721 - val_acc: 0.9257\n",
      "\n",
      "Epoch 00017: val_loss did not improve from 0.16039\n",
      "Epoch 18/200\n",
      "267/267 [==============================] - 94s 353ms/step - loss: 0.1725 - acc: 0.9288 - val_loss: 0.1500 - val_acc: 0.9434\n",
      "\n",
      "Epoch 00018: val_loss improved from 0.16039 to 0.14999, saving model to trial_cnn_model.h5\n",
      "Epoch 19/200\n",
      "267/267 [==============================] - 94s 353ms/step - loss: 0.1704 - acc: 0.9310 - val_loss: 0.1699 - val_acc: 0.9229\n",
      "\n",
      "Epoch 00019: val_loss did not improve from 0.14999\n",
      "Epoch 20/200\n",
      "267/267 [==============================] - 95s 354ms/step - loss: 0.1676 - acc: 0.9314 - val_loss: 0.2441 - val_acc: 0.8915\n",
      "\n",
      "Epoch 00020: val_loss did not improve from 0.14999\n",
      "Epoch 21/200\n",
      "267/267 [==============================] - 94s 353ms/step - loss: 0.1802 - acc: 0.9252 - val_loss: 0.1705 - val_acc: 0.9311\n",
      "\n",
      "Epoch 00021: val_loss did not improve from 0.14999\n",
      "Epoch 22/200\n",
      "267/267 [==============================] - 94s 352ms/step - loss: 0.1701 - acc: 0.9309 - val_loss: 0.2178 - val_acc: 0.9224\n",
      "\n",
      "Epoch 00022: val_loss did not improve from 0.14999\n",
      "Epoch 23/200\n",
      "267/267 [==============================] - 94s 353ms/step - loss: 0.1609 - acc: 0.9354 - val_loss: 0.1945 - val_acc: 0.9281\n",
      "\n",
      "Epoch 00023: val_loss did not improve from 0.14999\n",
      "Epoch 24/200\n",
      "267/267 [==============================] - 95s 354ms/step - loss: 0.1583 - acc: 0.9330 - val_loss: 0.1818 - val_acc: 0.9262\n",
      "\n",
      "Epoch 00024: val_loss did not improve from 0.14999\n",
      "Epoch 25/200\n",
      "267/267 [==============================] - 94s 354ms/step - loss: 0.1438 - acc: 0.9425 - val_loss: 0.1432 - val_acc: 0.9374\n",
      "\n",
      "Epoch 00025: val_loss improved from 0.14999 to 0.14320, saving model to trial_cnn_model.h5\n",
      "Epoch 26/200\n",
      "267/267 [==============================] - 94s 353ms/step - loss: 0.1473 - acc: 0.9369 - val_loss: 0.1476 - val_acc: 0.9350\n",
      "\n",
      "Epoch 00026: val_loss did not improve from 0.14320\n",
      "Epoch 27/200\n",
      "267/267 [==============================] - 94s 353ms/step - loss: 0.1448 - acc: 0.9384 - val_loss: 0.1757 - val_acc: 0.9268\n",
      "\n",
      "Epoch 00027: val_loss did not improve from 0.14320\n",
      "Epoch 28/200\n",
      "267/267 [==============================] - 94s 354ms/step - loss: 0.1394 - acc: 0.9437 - val_loss: 0.1477 - val_acc: 0.9426\n",
      "\n",
      "Epoch 00028: val_loss did not improve from 0.14320\n",
      "Epoch 29/200\n",
      "267/267 [==============================] - 95s 355ms/step - loss: 0.1372 - acc: 0.9424 - val_loss: 0.1585 - val_acc: 0.9350\n",
      "\n",
      "Epoch 00029: val_loss did not improve from 0.14320\n",
      "Epoch 30/200\n",
      "267/267 [==============================] - 94s 353ms/step - loss: 0.1345 - acc: 0.9461 - val_loss: 0.1570 - val_acc: 0.9360\n",
      "\n",
      "Epoch 00030: val_loss did not improve from 0.14320\n",
      "Epoch 31/200\n",
      "267/267 [==============================] - 94s 352ms/step - loss: 0.1308 - acc: 0.9477 - val_loss: 0.1427 - val_acc: 0.9412\n",
      "\n",
      "Epoch 00031: val_loss improved from 0.14320 to 0.14275, saving model to trial_cnn_model.h5\n",
      "Epoch 32/200\n",
      "267/267 [==============================] - 94s 352ms/step - loss: 0.1263 - acc: 0.9500 - val_loss: 0.1352 - val_acc: 0.9434\n",
      "\n",
      "Epoch 00032: val_loss improved from 0.14275 to 0.13524, saving model to trial_cnn_model.h5\n",
      "Epoch 33/200\n",
      "267/267 [==============================] - 94s 353ms/step - loss: 0.1423 - acc: 0.9426 - val_loss: 0.1529 - val_acc: 0.9339\n",
      "\n",
      "Epoch 00033: val_loss did not improve from 0.13524\n",
      "Epoch 34/200\n",
      "267/267 [==============================] - 94s 352ms/step - loss: 0.1235 - acc: 0.9486 - val_loss: 0.1296 - val_acc: 0.9470\n",
      "\n",
      "Epoch 00034: val_loss improved from 0.13524 to 0.12958, saving model to trial_cnn_model.h5\n",
      "Epoch 35/200\n",
      "267/267 [==============================] - 94s 353ms/step - loss: 0.1178 - acc: 0.9527 - val_loss: 0.1829 - val_acc: 0.9251\n",
      "\n",
      "Epoch 00035: val_loss did not improve from 0.12958\n",
      "Epoch 36/200\n",
      "267/267 [==============================] - 95s 354ms/step - loss: 0.1207 - acc: 0.9508 - val_loss: 0.1225 - val_acc: 0.9494\n",
      "\n",
      "Epoch 00036: val_loss improved from 0.12958 to 0.12247, saving model to trial_cnn_model.h5\n",
      "Epoch 37/200\n",
      "267/267 [==============================] - 94s 353ms/step - loss: 0.1166 - acc: 0.9531 - val_loss: 0.1277 - val_acc: 0.9442\n",
      "\n",
      "Epoch 00037: val_loss did not improve from 0.12247\n",
      "Epoch 38/200\n",
      "267/267 [==============================] - 94s 353ms/step - loss: 0.1072 - acc: 0.9558 - val_loss: 0.1580 - val_acc: 0.9385\n",
      "\n",
      "Epoch 00038: val_loss did not improve from 0.12247\n",
      "Epoch 39/200\n",
      "267/267 [==============================] - 95s 355ms/step - loss: 0.1131 - acc: 0.9584 - val_loss: 0.1466 - val_acc: 0.9442\n",
      "\n",
      "Epoch 00039: val_loss did not improve from 0.12247\n",
      "Epoch 40/200\n",
      "267/267 [==============================] - 95s 354ms/step - loss: 0.1108 - acc: 0.9570 - val_loss: 0.1297 - val_acc: 0.9467\n",
      "\n",
      "Epoch 00040: val_loss did not improve from 0.12247\n",
      "Epoch 41/200\n"
     ]
    },
    {
     "name": "stdout",
     "output_type": "stream",
     "text": [
      "267/267 [==============================] - 94s 353ms/step - loss: 0.1046 - acc: 0.9568 - val_loss: 0.1452 - val_acc: 0.9483\n",
      "\n",
      "Epoch 00041: val_loss did not improve from 0.12247\n",
      "Epoch 42/200\n",
      "267/267 [==============================] - 94s 352ms/step - loss: 0.1055 - acc: 0.9595 - val_loss: 0.1715 - val_acc: 0.9300\n",
      "\n",
      "Epoch 00042: val_loss did not improve from 0.12247\n",
      "Epoch 43/200\n",
      "267/267 [==============================] - 94s 353ms/step - loss: 0.1059 - acc: 0.9588 - val_loss: 0.1429 - val_acc: 0.9453\n",
      "\n",
      "Epoch 00043: val_loss did not improve from 0.12247\n",
      "Epoch 44/200\n",
      "267/267 [==============================] - 95s 354ms/step - loss: 0.0994 - acc: 0.9603 - val_loss: 0.4943 - val_acc: 0.7622\n",
      "\n",
      "Epoch 00044: val_loss did not improve from 0.12247\n",
      "Epoch 45/200\n",
      "267/267 [==============================] - 94s 353ms/step - loss: 0.1000 - acc: 0.9620 - val_loss: 0.1196 - val_acc: 0.9530\n",
      "\n",
      "Epoch 00045: val_loss improved from 0.12247 to 0.11962, saving model to trial_cnn_model.h5\n",
      "Epoch 46/200\n",
      "267/267 [==============================] - 94s 354ms/step - loss: 0.1013 - acc: 0.9606 - val_loss: 0.1434 - val_acc: 0.9429\n",
      "\n",
      "Epoch 00046: val_loss did not improve from 0.11962\n",
      "Epoch 47/200\n",
      "267/267 [==============================] - 94s 352ms/step - loss: 0.0942 - acc: 0.9632 - val_loss: 0.1121 - val_acc: 0.9546\n",
      "\n",
      "Epoch 00047: val_loss improved from 0.11962 to 0.11210, saving model to trial_cnn_model.h5\n",
      "Epoch 48/200\n",
      "267/267 [==============================] - 94s 353ms/step - loss: 0.0972 - acc: 0.9615 - val_loss: 0.1098 - val_acc: 0.9576\n",
      "\n",
      "Epoch 00048: val_loss improved from 0.11210 to 0.10982, saving model to trial_cnn_model.h5\n",
      "Epoch 49/200\n",
      "267/267 [==============================] - 94s 353ms/step - loss: 0.0959 - acc: 0.9625 - val_loss: 0.1197 - val_acc: 0.9505\n",
      "\n",
      "Epoch 00049: val_loss did not improve from 0.10982\n",
      "Epoch 50/200\n",
      "267/267 [==============================] - 94s 353ms/step - loss: 0.0938 - acc: 0.9639 - val_loss: 0.1190 - val_acc: 0.9544\n",
      "\n",
      "Epoch 00050: val_loss did not improve from 0.10982\n",
      "Epoch 51/200\n",
      "267/267 [==============================] - 94s 353ms/step - loss: 0.0929 - acc: 0.9631 - val_loss: 0.1204 - val_acc: 0.9555\n",
      "\n",
      "Epoch 00051: val_loss did not improve from 0.10982\n",
      "Epoch 52/200\n",
      "267/267 [==============================] - 94s 352ms/step - loss: 0.0833 - acc: 0.9663 - val_loss: 0.1160 - val_acc: 0.9546\n",
      "\n",
      "Epoch 00052: val_loss did not improve from 0.10982\n",
      "Epoch 53/200\n",
      "267/267 [==============================] - 94s 353ms/step - loss: 0.0901 - acc: 0.9638 - val_loss: 0.1352 - val_acc: 0.9464\n",
      "\n",
      "Epoch 00053: val_loss did not improve from 0.10982\n",
      "Epoch 54/200\n",
      "267/267 [==============================] - 94s 353ms/step - loss: 0.0886 - acc: 0.9665 - val_loss: 0.1199 - val_acc: 0.9527\n",
      "\n",
      "Epoch 00054: val_loss did not improve from 0.10982\n",
      "Epoch 55/200\n",
      "267/267 [==============================] - 94s 353ms/step - loss: 0.0818 - acc: 0.9680 - val_loss: 0.1045 - val_acc: 0.9582\n",
      "\n",
      "Epoch 00055: val_loss improved from 0.10982 to 0.10454, saving model to trial_cnn_model.h5\n",
      "Epoch 56/200\n",
      "267/267 [==============================] - 95s 354ms/step - loss: 0.0925 - acc: 0.9647 - val_loss: 0.1346 - val_acc: 0.9486\n",
      "\n",
      "Epoch 00056: val_loss did not improve from 0.10454\n",
      "Epoch 57/200\n",
      "267/267 [==============================] - 94s 352ms/step - loss: 0.0836 - acc: 0.9684 - val_loss: 0.1251 - val_acc: 0.9524\n",
      "\n",
      "Epoch 00057: val_loss did not improve from 0.10454\n",
      "Epoch 58/200\n",
      "267/267 [==============================] - 94s 353ms/step - loss: 0.0794 - acc: 0.9711 - val_loss: 0.1269 - val_acc: 0.9527\n",
      "\n",
      "Epoch 00058: val_loss did not improve from 0.10454\n",
      "Epoch 59/200\n",
      "267/267 [==============================] - 94s 353ms/step - loss: 0.0797 - acc: 0.9690 - val_loss: 0.1134 - val_acc: 0.9560\n",
      "\n",
      "Epoch 00059: val_loss did not improve from 0.10454\n",
      "Epoch 60/200\n",
      "267/267 [==============================] - 94s 353ms/step - loss: 0.0800 - acc: 0.9679 - val_loss: 0.1402 - val_acc: 0.9503\n",
      "\n",
      "Epoch 00060: val_loss did not improve from 0.10454\n",
      "Epoch 61/200\n",
      "267/267 [==============================] - 94s 352ms/step - loss: 0.0819 - acc: 0.9687 - val_loss: 0.1261 - val_acc: 0.9519\n",
      "\n",
      "Epoch 00061: val_loss did not improve from 0.10454\n",
      "Epoch 62/200\n",
      "267/267 [==============================] - 94s 352ms/step - loss: 0.0770 - acc: 0.9696 - val_loss: 0.1034 - val_acc: 0.9604\n",
      "\n",
      "Epoch 00062: val_loss improved from 0.10454 to 0.10338, saving model to trial_cnn_model.h5\n",
      "Epoch 63/200\n",
      "267/267 [==============================] - 94s 352ms/step - loss: 0.0709 - acc: 0.9729 - val_loss: 0.1063 - val_acc: 0.9568\n",
      "\n",
      "Epoch 00063: val_loss did not improve from 0.10338\n",
      "Epoch 64/200\n",
      "267/267 [==============================] - 94s 352ms/step - loss: 0.0730 - acc: 0.9706 - val_loss: 0.1374 - val_acc: 0.9492\n",
      "\n",
      "Epoch 00064: val_loss did not improve from 0.10338\n",
      "Epoch 65/200\n",
      "267/267 [==============================] - 94s 352ms/step - loss: 0.0752 - acc: 0.9730 - val_loss: 0.1033 - val_acc: 0.9571\n",
      "\n",
      "Epoch 00065: val_loss improved from 0.10338 to 0.10330, saving model to trial_cnn_model.h5\n",
      "Epoch 66/200\n",
      "267/267 [==============================] - 94s 353ms/step - loss: 0.0717 - acc: 0.9712 - val_loss: 0.1362 - val_acc: 0.9478\n",
      "\n",
      "Epoch 00066: val_loss did not improve from 0.10330\n",
      "Epoch 67/200\n",
      "267/267 [==============================] - 94s 352ms/step - loss: 0.0783 - acc: 0.9687 - val_loss: 0.1212 - val_acc: 0.9565\n",
      "\n",
      "Epoch 00067: val_loss did not improve from 0.10330\n",
      "Epoch 68/200\n",
      "267/267 [==============================] - 94s 353ms/step - loss: 0.0751 - acc: 0.9707 - val_loss: 0.1091 - val_acc: 0.9557\n",
      "\n",
      "Epoch 00068: val_loss did not improve from 0.10330\n",
      "Epoch 69/200\n",
      "267/267 [==============================] - 94s 352ms/step - loss: 0.0642 - acc: 0.9752 - val_loss: 0.1761 - val_acc: 0.9391\n",
      "\n",
      "Epoch 00069: val_loss did not improve from 0.10330\n",
      "Epoch 70/200\n",
      "267/267 [==============================] - 94s 352ms/step - loss: 0.0759 - acc: 0.9708 - val_loss: 0.1197 - val_acc: 0.9579\n",
      "\n",
      "Epoch 00070: val_loss did not improve from 0.10330\n",
      "Epoch 71/200\n",
      "267/267 [==============================] - 94s 352ms/step - loss: 0.0666 - acc: 0.9754 - val_loss: 0.1027 - val_acc: 0.9582\n",
      "\n",
      "Epoch 00071: val_loss improved from 0.10330 to 0.10270, saving model to trial_cnn_model.h5\n",
      "Epoch 72/200\n",
      "267/267 [==============================] - 94s 352ms/step - loss: 0.0705 - acc: 0.9735 - val_loss: 0.0981 - val_acc: 0.9623\n",
      "\n",
      "Epoch 00072: val_loss improved from 0.10270 to 0.09808, saving model to trial_cnn_model.h5\n",
      "Epoch 73/200\n",
      "267/267 [==============================] - 94s 351ms/step - loss: 0.0679 - acc: 0.9734 - val_loss: 0.1014 - val_acc: 0.9593\n",
      "\n",
      "Epoch 00073: val_loss did not improve from 0.09808\n",
      "Epoch 74/200\n",
      "267/267 [==============================] - 94s 352ms/step - loss: 0.0647 - acc: 0.9738 - val_loss: 0.1564 - val_acc: 0.9440\n",
      "\n",
      "Epoch 00074: val_loss did not improve from 0.09808\n",
      "Epoch 75/200\n",
      "267/267 [==============================] - 94s 352ms/step - loss: 0.0588 - acc: 0.9778 - val_loss: 0.1142 - val_acc: 0.9574\n",
      "\n",
      "Epoch 00075: val_loss did not improve from 0.09808\n",
      "Epoch 76/200\n",
      "267/267 [==============================] - 94s 352ms/step - loss: 0.0651 - acc: 0.9752 - val_loss: 0.1266 - val_acc: 0.9549\n",
      "\n",
      "Epoch 00076: val_loss did not improve from 0.09808\n",
      "Epoch 77/200\n",
      "267/267 [==============================] - 94s 352ms/step - loss: 0.0632 - acc: 0.9759 - val_loss: 0.1243 - val_acc: 0.9530\n",
      "\n",
      "Epoch 00077: val_loss did not improve from 0.09808\n",
      "Epoch 78/200\n",
      "267/267 [==============================] - 94s 352ms/step - loss: 0.0618 - acc: 0.9775 - val_loss: 0.1096 - val_acc: 0.9544\n",
      "\n",
      "Epoch 00078: val_loss did not improve from 0.09808\n",
      "Epoch 79/200\n",
      "267/267 [==============================] - 94s 353ms/step - loss: 0.0596 - acc: 0.9757 - val_loss: 0.1129 - val_acc: 0.9579\n",
      "\n",
      "Epoch 00079: val_loss did not improve from 0.09808\n",
      "Epoch 80/200\n",
      "267/267 [==============================] - 94s 352ms/step - loss: 0.0558 - acc: 0.9774 - val_loss: 0.1094 - val_acc: 0.9585\n",
      "\n",
      "Epoch 00080: val_loss did not improve from 0.09808\n",
      "Epoch 81/200\n",
      "267/267 [==============================] - 94s 353ms/step - loss: 0.0562 - acc: 0.9795 - val_loss: 0.1097 - val_acc: 0.9628\n",
      "\n",
      "Epoch 00081: val_loss did not improve from 0.09808\n",
      "Epoch 82/200\n",
      "267/267 [==============================] - 94s 352ms/step - loss: 0.0612 - acc: 0.9768 - val_loss: 0.1603 - val_acc: 0.9445\n"
     ]
    },
    {
     "name": "stdout",
     "output_type": "stream",
     "text": [
      "\n",
      "Epoch 00082: val_loss did not improve from 0.09808\n",
      "Epoch 83/200\n",
      "267/267 [==============================] - 94s 353ms/step - loss: 0.0562 - acc: 0.9802 - val_loss: 0.1138 - val_acc: 0.9582\n",
      "\n",
      "Epoch 00083: val_loss did not improve from 0.09808\n",
      "Epoch 84/200\n",
      "267/267 [==============================] - 94s 352ms/step - loss: 0.0605 - acc: 0.9774 - val_loss: 0.1340 - val_acc: 0.9519\n",
      "\n",
      "Epoch 00084: val_loss did not improve from 0.09808\n",
      "Epoch 85/200\n",
      "267/267 [==============================] - 94s 353ms/step - loss: 0.0575 - acc: 0.9777 - val_loss: 0.1366 - val_acc: 0.9538\n",
      "\n",
      "Epoch 00085: val_loss did not improve from 0.09808\n",
      "Epoch 86/200\n",
      "267/267 [==============================] - 94s 353ms/step - loss: 0.0514 - acc: 0.9802 - val_loss: 0.1173 - val_acc: 0.9571\n",
      "\n",
      "Epoch 00086: val_loss did not improve from 0.09808\n",
      "Epoch 87/200\n",
      "267/267 [==============================] - 94s 353ms/step - loss: 0.0543 - acc: 0.9793 - val_loss: 0.1329 - val_acc: 0.9486\n",
      "\n",
      "Epoch 00087: val_loss did not improve from 0.09808\n",
      "Epoch 88/200\n",
      "267/267 [==============================] - 94s 352ms/step - loss: 0.0580 - acc: 0.9794 - val_loss: 0.1560 - val_acc: 0.9401\n",
      "\n",
      "Epoch 00088: val_loss did not improve from 0.09808\n",
      "Epoch 89/200\n",
      "267/267 [==============================] - 94s 353ms/step - loss: 0.0588 - acc: 0.9755 - val_loss: 0.1224 - val_acc: 0.9541\n",
      "\n",
      "Epoch 00089: val_loss did not improve from 0.09808\n",
      "Epoch 90/200\n",
      "267/267 [==============================] - 94s 353ms/step - loss: 0.0452 - acc: 0.9839 - val_loss: 0.1222 - val_acc: 0.9563\n",
      "\n",
      "Epoch 00090: val_loss did not improve from 0.09808\n",
      "Epoch 91/200\n",
      "267/267 [==============================] - 94s 352ms/step - loss: 0.0572 - acc: 0.9784 - val_loss: 0.1134 - val_acc: 0.9576\n",
      "\n",
      "Epoch 00091: val_loss did not improve from 0.09808\n",
      "Epoch 92/200\n",
      "267/267 [==============================] - 94s 352ms/step - loss: 0.0460 - acc: 0.9814 - val_loss: 0.1200 - val_acc: 0.9612\n",
      "\n",
      "Epoch 00092: val_loss did not improve from 0.09808\n",
      "Epoch 93/200\n",
      "267/267 [==============================] - 94s 353ms/step - loss: 0.0616 - acc: 0.9788 - val_loss: 0.1254 - val_acc: 0.9563\n",
      "\n",
      "Epoch 00093: val_loss did not improve from 0.09808\n",
      "Epoch 94/200\n",
      "267/267 [==============================] - 94s 352ms/step - loss: 0.0503 - acc: 0.9827 - val_loss: 0.1245 - val_acc: 0.9565\n",
      "\n",
      "Epoch 00094: val_loss did not improve from 0.09808\n",
      "Epoch 95/200\n",
      "267/267 [==============================] - 94s 352ms/step - loss: 0.0520 - acc: 0.9807 - val_loss: 0.1381 - val_acc: 0.9557\n",
      "\n",
      "Epoch 00095: val_loss did not improve from 0.09808\n",
      "Epoch 96/200\n",
      "267/267 [==============================] - 94s 353ms/step - loss: 0.0550 - acc: 0.9796 - val_loss: 0.1092 - val_acc: 0.9626\n",
      "\n",
      "Epoch 00096: val_loss did not improve from 0.09808\n",
      "Epoch 97/200\n",
      "267/267 [==============================] - 94s 351ms/step - loss: 0.0538 - acc: 0.9792 - val_loss: 0.1231 - val_acc: 0.9557\n",
      "\n",
      "Epoch 00097: val_loss did not improve from 0.09808\n",
      "Epoch 98/200\n",
      "267/267 [==============================] - 94s 352ms/step - loss: 0.0497 - acc: 0.9815 - val_loss: 0.1236 - val_acc: 0.9571\n",
      "\n",
      "Epoch 00098: val_loss did not improve from 0.09808\n",
      "Epoch 99/200\n",
      "267/267 [==============================] - 94s 352ms/step - loss: 0.0456 - acc: 0.9830 - val_loss: 0.1191 - val_acc: 0.9585\n",
      "\n",
      "Epoch 00099: val_loss did not improve from 0.09808\n",
      "Epoch 100/200\n",
      "267/267 [==============================] - 94s 351ms/step - loss: 0.0483 - acc: 0.9826 - val_loss: 0.1141 - val_acc: 0.9568\n",
      "\n",
      "Epoch 00100: val_loss did not improve from 0.09808\n",
      "Epoch 101/200\n",
      "267/267 [==============================] - 94s 352ms/step - loss: 0.0473 - acc: 0.9828 - val_loss: 0.1065 - val_acc: 0.9631\n",
      "\n",
      "Epoch 00101: val_loss did not improve from 0.09808\n",
      "Epoch 102/200\n",
      "267/267 [==============================] - 94s 351ms/step - loss: 0.0503 - acc: 0.9794 - val_loss: 0.1098 - val_acc: 0.9565\n",
      "\n",
      "Epoch 00102: val_loss did not improve from 0.09808\n",
      "Epoch 00102: early stopping\n"
     ]
    }
   ],
   "source": [
    "perf_hist = model.fit_generator(image_augments.flow(x_train, y_train, batch_size=32),epochs=200,validation_data=(x_valid,y_valid), callbacks=callbacks_list, shuffle=False, workers=5, use_multiprocessing=True)"
   ]
  },
  {
   "cell_type": "code",
   "execution_count": 23,
   "metadata": {},
   "outputs": [],
   "source": [
    "import matplotlib.pyplot as plt"
   ]
  },
  {
   "cell_type": "code",
   "execution_count": 24,
   "metadata": {},
   "outputs": [
    {
     "data": {
      "image/png": "[encoded data removed]",
      "text/plain": [
       "<Figure size 432x288 with 1 Axes>"
      ]
     },
     "metadata": {
      "needs_background": "light"
     },
     "output_type": "display_data"
    }
   ],
   "source": [
    "plt.plot(perf_hist.history['acc'], 'r')\n",
    "plt.plot(perf_hist.history['val_acc'], 'b')\n",
    "plt.legend({'training accuracy': 'r', 'validation accuracy':'b'})\n",
    "plt.show()"
   ]
  },
  {
   "cell_type": "code",
   "execution_count": 25,
   "metadata": {},
   "outputs": [
    {
     "data": {
      "image/png": "[encoded data removed]",
      "text/plain": [
       "<Figure size 432x288 with 1 Axes>"
      ]
     },
     "metadata": {
      "needs_background": "light"
     },
     "output_type": "display_data"
    }
   ],
   "source": [
    "\n",
    "plt.plot(perf_hist.history['loss'], 'r')\n",
    "plt.plot(perf_hist.history['val_loss'], 'b')\n",
    "plt.legend({'training loss': 'r', 'validation loss':'b'})\n",
    "plt.show()"
   ]
  },
  {
   "cell_type": "code",
   "execution_count": 26,
   "metadata": {},
   "outputs": [],
   "source": [
    "#load test data\n",
    "test_data = pd.read_csv(\"test.csv\")"
   ]
  },
  {
   "cell_type": "code",
   "execution_count": 27,
   "metadata": {},
   "outputs": [
    {
     "data": {
      "text/html": [
       "<div>\n",
       "<style scoped>\n",
       "    .dataframe tbody tr th:only-of-type {\n",
       "        vertical-align: middle;\n",
       "    }\n",
       "\n",
       "    .dataframe tbody tr th {\n",
       "        vertical-align: top;\n",
       "    }\n",
       "\n",
       "    .dataframe thead th {\n",
       "        text-align: right;\n",
       "    }\n",
       "</style>\n",
       "<table border=\"1\" class=\"dataframe\">\n",
       "  <thead>\n",
       "    <tr style=\"text-align: right;\">\n",
       "      <th></th>\n",
       "      <th>image_names</th>\n",
       "    </tr>\n",
       "  </thead>\n",
       "  <tbody>\n",
       "    <tr>\n",
       "      <th>0</th>\n",
       "      <td>5603.jpg</td>\n",
       "    </tr>\n",
       "    <tr>\n",
       "      <th>1</th>\n",
       "      <td>1286.jpg</td>\n",
       "    </tr>\n",
       "    <tr>\n",
       "      <th>2</th>\n",
       "      <td>9815.jpg</td>\n",
       "    </tr>\n",
       "    <tr>\n",
       "      <th>3</th>\n",
       "      <td>8865.jpg</td>\n",
       "    </tr>\n",
       "    <tr>\n",
       "      <th>4</th>\n",
       "      <td>9306.jpg</td>\n",
       "    </tr>\n",
       "  </tbody>\n",
       "</table>\n",
       "</div>"
      ],
      "text/plain": [
       "  image_names\n",
       "0    5603.jpg\n",
       "1    1286.jpg\n",
       "2    9815.jpg\n",
       "3    8865.jpg\n",
       "4    9306.jpg"
      ]
     },
     "execution_count": 27,
     "metadata": {},
     "output_type": "execute_result"
    }
   ],
   "source": [
    "test_data.head()"
   ]
  },
  {
   "cell_type": "code",
   "execution_count": 28,
   "metadata": {},
   "outputs": [],
   "source": [
    "test_images = list()\n",
    "for i in test_data.image_names:\n",
    "    img = load_img(\"images/\"+i)\n",
    "    img = img_to_array(img)\n",
    "    test_images.append( img)\n",
    "test_images=np.array(test_images)"
   ]
  },
  {
   "cell_type": "code",
   "execution_count": 29,
   "metadata": {},
   "outputs": [
    {
     "data": {
      "text/plain": [
       "(5227, 224, 224, 3)"
      ]
     },
     "execution_count": 29,
     "metadata": {},
     "output_type": "execute_result"
    }
   ],
   "source": [
    "test_images.shape"
   ]
  },
  {
   "cell_type": "code",
   "execution_count": null,
   "metadata": {},
   "outputs": [],
   "source": [
    "test_images = test_images/test_images.max()"
   ]
  },
  {
   "cell_type": "code",
   "execution_count": null,
   "metadata": {},
   "outputs": [],
   "source": [
    "predictions = model.predict_classes(test_images)"
   ]
  },
  {
   "cell_type": "code",
   "execution_count": null,
   "metadata": {},
   "outputs": [],
   "source": [
    "result = pd.DataFrame(index=None)"
   ]
  },
  {
   "cell_type": "code",
   "execution_count": null,
   "metadata": {},
   "outputs": [],
   "source": [
    "result['image_names']=test_data['image_names']\n",
    "result['class']=predictions"
   ]
  },
  {
   "cell_type": "code",
   "execution_count": null,
   "metadata": {},
   "outputs": [],
   "source": [
    "result.to_csv(path_or_buf='result.csv',index=False)"
   ]
  },
  {
   "cell_type": "code",
   "execution_count": null,
   "metadata": {},
   "outputs": [],
   "source": []
  }
 ],
 "metadata": {
  "kernelspec": {
   "display_name": "Python 3",
   "language": "python",
   "name": "python3"
  },
  "language_info": {
   "codemirror_mode": {
    "name": "ipython",
    "version": 3
   },
   "file_extension": ".py",
   "mimetype": "text/x-python",
   "name": "python",
   "nbconvert_exporter": "python",
   "pygments_lexer": "ipython3",
   "version": "3.6.6"
  }
 },
 "nbformat": 4,
 "nbformat_minor": 2
}
